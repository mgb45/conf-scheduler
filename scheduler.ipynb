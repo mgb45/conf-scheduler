{
 "cells": [
  {
   "cell_type": "code",
   "execution_count": 1,
   "metadata": {
    "collapsed": false
   },
   "outputs": [],
   "source": [
    "import numpy as np\n",
    "from matplotlib import pyplot as plt\n",
    "%matplotlib inline\n",
    "from IPython import display"
   ]
  },
  {
   "cell_type": "markdown",
   "metadata": {},
   "source": [
    "### There's usually a catch all topic with conference jargon, it's easy to spot this so we manually remove it"
   ]
  },
  {
   "cell_type": "code",
   "execution_count": 2,
   "metadata": {
    "collapsed": false
   },
   "outputs": [
    {
     "data": {
      "image/png": "[encoded data removed]",
      "text/plain": [
       "<matplotlib.figure.Figure at 0x7fbb0ec3ee50>"
      ]
     },
     "metadata": {},
     "output_type": "display_data"
    }
   ],
   "source": [
    "doc_topic = np.genfromtxt('doc_topic.csv',delimiter=',')\n",
    "topic_word = np.genfromtxt('topic_word.csv',delimiter=',')\n",
    "\n",
    "with open('vocab.csv') as f:\n",
    "    vocab = f.read().splitlines()\n",
    "\n",
    "# Show document distributions across topics\n",
    "plt.imshow(doc_topic.T,interpolation='none')\n",
    "plt.show()\n",
    "\n",
    "# Remove topic 2 = catch all prasa-robmech jargon (if your stopwords are set up nicely don't bother)\n",
    "#doc_topic = np.delete(doc_topic, (3), axis=1)\n",
    "#doc_topic = (doc_topic.T/np.sum(doc_topic,axis=1)).T\n",
    "#topic_word = np.delete(topic_word,(3),axis=0)\n",
    "#topic_word = topic_word/np.sum(topic_word,axis=0)\n",
    "\n",
    "#plt.imshow(doc_topic.T,interpolation='none')\n",
    "#plt.show()"
   ]
  },
  {
   "cell_type": "code",
   "execution_count": 3,
   "metadata": {
    "collapsed": false
   },
   "outputs": [],
   "source": [
    "from scipy.spatial.distance import pdist\n",
    "from scipy.spatial.distance import squareform\n",
    "Y = pdist(doc_topic, 'seuclidean')\n",
    "\n",
    "D = squareform(Y)"
   ]
  },
  {
   "cell_type": "code",
   "execution_count": 4,
   "metadata": {
    "collapsed": false
   },
   "outputs": [
    {
     "data": {
      "image/png": "[encoded data removed]",
      "text/plain": [
       "<matplotlib.figure.Figure at 0x7fbb0ec50f90>"
      ]
     },
     "metadata": {},
     "output_type": "display_data"
    }
   ],
   "source": [
    "plt.figure(figsize=(15,8))\n",
    "plt.imshow(D,interpolation='none')\n",
    "plt.show()"
   ]
  },
  {
   "cell_type": "markdown",
   "metadata": {},
   "source": [
    "### Set conference schedule here, session_papers has a list of sessions and the number of papers they can hold"
   ]
  },
  {
   "cell_type": "code",
   "execution_count": 5,
   "metadata": {
    "collapsed": false,
    "scrolled": true
   },
   "outputs": [
    {
     "name": "stdout",
     "output_type": "stream",
     "text": [
      "55 16\n"
     ]
    }
   ],
   "source": [
    "# Number of papers in each session, schedule\n",
    "session_papers = [4, 4, 3, 3, 3, 3, 4, 4, 4, 4, 3, 3, 3, 3, 4, 3]\n",
    "print sum(session_papers), len(session_papers)"
   ]
  },
  {
   "cell_type": "code",
   "execution_count": null,
   "metadata": {
    "collapsed": false
   },
   "outputs": [],
   "source": [
    "# Makes pretty spreadsheet, requires a csv file with paper details (title, authors, paper id)\n",
    "def save_schedule():\n",
    "    \n",
    "    import xlsxwriter\n",
    "    from matplotlib import cm\n",
    "    from matplotlib import colors\n",
    "\n",
    "    workbook = xlsxwriter.Workbook('example.xlsx')\n",
    "    worksheet = workbook.add_worksheet()\n",
    "    worksheet.set_column(0, 0, 10) \n",
    "    worksheet.set_column(1, 1, 50)\n",
    "    worksheet.set_column(2, 4, 80)\n",
    "\n",
    "    with open('vocab.csv') as f:\n",
    "        vocab = f.read().splitlines()\n",
    "\n",
    "    import csv\n",
    "    paper_details = []\n",
    "    with open('paper_details.csv') as csvfile:\n",
    "        reader = csv.DictReader(csvfile)\n",
    "        for row in reader:\n",
    "            paper_details.append(row)\n",
    "\n",
    "    worksheet.write(0, 0, 'Session')\n",
    "    worksheet.write(0, 1, 'Topic')\n",
    "    worksheet.write(0, 2, 'Title')\n",
    "    worksheet.write(0, 3, 'Authors')\n",
    "    worksheet.write(0, 4, 'Paper ID')\n",
    "\n",
    "    cmap = cm.get_cmap('hsv', int(np.max(mfinal)))    # PiYG\n",
    "\n",
    "    for j,sess in enumerate(sorted(mfinal)):\n",
    "        i = np.argsort(mfinal)[j]\n",
    "        detail = paper_details[int(i)]\n",
    "        Pt = 1.0/session_papers[int(sess)]*np.sum(doc_topic[mfinal==sess,:],axis=0)\n",
    "\n",
    "        Pw = np.sum(np.multiply(topic_word.T,Pt),axis=1)\n",
    "\n",
    "        bins = np.argsort(Pw)[-6:]\n",
    "        sess_topic =  ' '.join(np.array(vocab)[bins].tolist())\n",
    "\n",
    "        fmt = workbook.add_format()\n",
    "        fmt.set_border(1)\n",
    "        fmt.set_bg_color(colors.rgb2hex(cmap(int(sess))[:3]))\n",
    "\n",
    "        worksheet.write(j+1, 0, sess,fmt)\n",
    "        worksheet.write(j+1, 1, sess_topic,fmt)\n",
    "        worksheet.write(j+1, 2, detail['title'],fmt)\n",
    "        worksheet.write(j+1, 3, detail['authors'],fmt)\n",
    "        worksheet.write(j+1, 4, detail['paper_id'],fmt)\n",
    "\n",
    "    workbook.close()"
   ]
  },
  {
   "cell_type": "markdown",
   "metadata": {},
   "source": [
    "### Cluster papers into sessions, this may take some time, so just stop when you're happy with the output in example.xlsx"
   ]
  },
  {
   "cell_type": "code",
   "execution_count": null,
   "metadata": {
    "collapsed": false
   },
   "outputs": [
    {
     "data": {
      "image/png": "[encoded data removed]",
      "text/plain": [
       "<matplotlib.figure.Figure at 0x7fbb0e1674d0>"
      ]
     },
     "metadata": {},
     "output_type": "display_data"
    }
   ],
   "source": [
    "N = doc_topic.shape[0]\n",
    "K = len(session_papers)\n",
    "Num_Iters = 2500\n",
    "\n",
    "# Greedy clustering\n",
    "EBest = 10000;\n",
    "\n",
    "plt.figure(figsize=(20,8))\n",
    "for reseed_iter in range(Num_Iters):\n",
    "    \n",
    "    # Randomly allocate papers to sessions\n",
    "    mp = np.arange(N)\n",
    "    np.random.shuffle(mp)\n",
    "    Gcs = np.hstack((0,np.cumsum(np.array(session_papers))))\n",
    "    m = np.zeros((N,))\n",
    "    for j in range(1,Gcs.shape[0]):\n",
    "        m[(mp<Gcs[j])&(mp >= Gcs[j-1])] = j-1\n",
    "\n",
    "    # Calculate cost of session assignment\n",
    "    E = 0\n",
    "    for k in range(K):\n",
    "        i,j = np.meshgrid(np.where(m==k),np.where(m==k))\n",
    "        E = E + np.sum(D[i,j])/(D.shape[0]*D.shape[0])\n",
    "    E = E/K\n",
    "    \n",
    "    t = 0\n",
    "    while(1):\n",
    "        E_p = E\n",
    "        rp = np.arange(N)\n",
    "        np.random.shuffle(rp)\n",
    "        for a in rp:\n",
    "            for b in set(range(N)) - set([a]):\n",
    "                temp = m[a]\n",
    "                m[a] = m[b]\n",
    "                m[b] = temp\n",
    "                E_t = 0\n",
    "                for k in range(K):\n",
    "                    i,j = np.meshgrid(np.where(m==k),np.where(m==k))\n",
    "                    E_t = E_t + np.sum(D[i,j])/(D.shape[0]*D.shape[0])\n",
    "                E_t = E_t/K\n",
    "                if (E_t < E):\n",
    "                    E = E_t\n",
    "                    #print \"Iter:\", reseed_iter, t,a,b,E,EBest\n",
    "                    #display.clear_output(wait=True)\n",
    "                else:\n",
    "                    m[b] = m[a]\n",
    "                    m[a] = temp\n",
    "        \n",
    "        if (E_p == E):\n",
    "            break\n",
    "            \n",
    "        t = t + 1    \n",
    "    if (E < EBest):\n",
    "        EBest = E\n",
    "        mfinal = m\n",
    "        save_schedule()\n",
    "        #Show session distribution assignments\n",
    "        Sess_mat = []\n",
    "        for i in range(K):\n",
    "            Sess_mat.append(doc_topic[mfinal==i,:])\n",
    "            Sess_mat.append(np.zeros((1,doc_topic.shape[1])))\n",
    "            #plt.subplot(4,4,i+1)\n",
    "            #plt.imshow(doc_topic[mfinal==i,:],interpolation='none')\n",
    "            #Pt = 1.0/session_papers[i]*np.sum(doc_topic[mfinal==i,:],axis=0)\n",
    "            #Pw = np.sum(np.multiply(topic_word.T,Pt),axis=1)\n",
    "            #bins = np.argsort(Pw)[-4:]\n",
    "            #sess_topic =  ' '.join(np.array(vocab)[bins].tolist())\n",
    "            #plt.title(sess_topic)\n",
    "        plt.imshow(np.vstack(Sess_mat).T,interpolation='none')\n",
    "        plt.ylabel('Topic distribution')\n",
    "        display.clear_output(wait=True)\n",
    "        display.display(plt.gcf())\n",
    "        print \"Iter:\", reseed_iter, t,a,b,E,EBest\n",
    "        "
   ]
  },
  {
   "cell_type": "code",
   "execution_count": null,
   "metadata": {
    "collapsed": false
   },
   "outputs": [],
   "source": [
    "#Show session distribution assignments\n",
    "plt.figure(figsize=(15,5))\n",
    "for i in range(K):\n",
    "    plt.subplot(3,4,i)\n",
    "    plt.imshow(doc_topic[mfinal==i,:],interpolation='none')\n",
    "plt.show()"
   ]
  },
  {
   "cell_type": "code",
   "execution_count": null,
   "metadata": {
    "collapsed": false
   },
   "outputs": [],
   "source": [
    "# Save to csv instead of xlsx if you prefer\n",
    "def save_csv():\n",
    "    with open('vocab.csv') as f:\n",
    "        vocab = f.read().splitlines()\n",
    "\n",
    "    import csv\n",
    "    paper_details = []\n",
    "    with open('paper_details.csv') as csvfile:\n",
    "        reader = csv.DictReader(csvfile)\n",
    "        for row in reader:\n",
    "            paper_details.append(row)\n",
    "\n",
    "    keys = paper_details[0].keys()\n",
    "    keys.insert(0,'topic')\n",
    "    keys.insert(0,'session')\n",
    "\n",
    "    with open('scheduled_papers.csv', 'wb') as output_file:\n",
    "        dict_writer = csv.DictWriter(output_file, keys)\n",
    "        dict_writer.writeheader()\n",
    "        for j,sess in enumerate(sorted(mfinal)):\n",
    "            i = np.argsort(mfinal)[j]\n",
    "            detail = paper_details[int(i)]\n",
    "            Pt = 1.0/session_papers[int(sess)]*np.sum(doc_topic[mfinal==sess,:],axis=0)\n",
    "            #Pt = doc_topic[int(i),:]\n",
    "\n",
    "            Pw = np.sum(np.multiply(topic_word.T,Pt),axis=1)\n",
    "\n",
    "            bins = np.argsort(Pw)[-6:]\n",
    "            sess_topic =  ' '.join(np.array(vocab)[bins].tolist())\n",
    "            print detail['title'][0:40], sess_topic\n",
    "            detail['topic'] = sess_topic\n",
    "            detail['session'] = sess\n",
    "            dict_writer.writerow(detail)"
   ]
  }
 ],
 "metadata": {
  "kernelspec": {
   "display_name": "Python 2",
   "language": "python",
   "name": "python2"
  },
  "language_info": {
   "codemirror_mode": {
    "name": "ipython",
    "version": 2
   },
   "file_extension": ".py",
   "mimetype": "text/x-python",
   "name": "python",
   "nbconvert_exporter": "python",
   "pygments_lexer": "ipython2",
   "version": "2.7.6"
  }
 },
 "nbformat": 4,
 "nbformat_minor": 0
}
